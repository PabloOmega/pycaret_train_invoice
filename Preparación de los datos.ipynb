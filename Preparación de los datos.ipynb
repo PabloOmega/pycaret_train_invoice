{
 "cells": [
  {
   "cell_type": "code",
   "execution_count": null,
   "id": "581254de",
   "metadata": {},
   "outputs": [],
   "source": [
    "import numpy as np\n",
    "import pandas as pd"
   ]
  },
  {
   "cell_type": "markdown",
   "id": "a1a940cd",
   "metadata": {},
   "source": [
    "# Carga de los datos"
   ]
  },
  {
   "cell_type": "code",
   "execution_count": null,
   "id": "a7ecc0c0",
   "metadata": {},
   "outputs": [],
   "source": [
    "invoice_train = pd.read_csv('Dataset/invoice_train.csv')\n",
    "client_train = pd.read_csv('Dataset/client_train.csv')\n",
    "invoice_test = pd.read_csv('Dataset/invoice_test.csv')\n",
    "client_test = pd.read_csv('Dataset/client_test.csv')"
   ]
  },
  {
   "cell_type": "markdown",
   "id": "5adec790",
   "metadata": {},
   "source": [
    "# Datos de entrenamiento"
   ]
  },
  {
   "cell_type": "code",
   "execution_count": null,
   "id": "80b750a5",
   "metadata": {},
   "outputs": [],
   "source": [
    "invoice_train"
   ]
  },
  {
   "cell_type": "code",
   "execution_count": null,
   "id": "aeeddea2",
   "metadata": {},
   "outputs": [],
   "source": [
    "client_train"
   ]
  },
  {
   "cell_type": "markdown",
   "id": "0802c001",
   "metadata": {},
   "source": [
    "Para reducir el tiempo de procesamiento, se cambiaron todos los \"train_client_#\" por un simple número #. Con esto se consigue reducir el preprocesamiento de los datos de aproximadamente 70 horas a 5 horas al calcular la media, desviación estándar, min, max y el rango para cada cliente."
   ]
  },
  {
   "cell_type": "markdown",
   "id": "fc5a4cc7",
   "metadata": {},
   "source": [
    "Los datos luego de realizar este proceso ya se encuentra guardados en el archivo \"invoice_train_2\" adjunto a este Notebook, por lo que se puede evitar correr las 4 siguientes celdas de código y directamente ir a cargar el archivo."
   ]
  },
  {
   "cell_type": "code",
   "execution_count": null,
   "id": "6486025e",
   "metadata": {},
   "outputs": [],
   "source": [
    "old_client_id = \"train_Client_0\"\n",
    "index = 0\n",
    "for i in range(4476749):\n",
    "  client_id = invoice_train.loc[i,\"client_id\"]\n",
    "  if old_client_id != client_id:\n",
    "    index += 1\n",
    "  old_client_id = client_id\n",
    "  invoice_train.loc[i,\"client_id\"] = index"
   ]
  },
  {
   "cell_type": "code",
   "execution_count": null,
   "id": "e89fae7a",
   "metadata": {},
   "outputs": [],
   "source": [
    "invoice_train = invoice_train.set_axis(invoice_train['client_id'],0)\n",
    "invoice_train = invoice_train.drop('client_id', axis=1)"
   ]
  },
  {
   "cell_type": "markdown",
   "id": "602573ed",
   "metadata": {},
   "source": [
    "Se reemplaza los \"ELEC\" por 0 y \"GAZ\" por 1, para trabajar con valores numéricos"
   ]
  },
  {
   "cell_type": "code",
   "execution_count": null,
   "id": "701f93c1",
   "metadata": {},
   "outputs": [],
   "source": [
    "invoice_train[\"counter_type\"] = invoice_train[\"counter_type\"].replace([\"ELEC\", \"GAZ\"], [0, 1])"
   ]
  },
  {
   "cell_type": "markdown",
   "id": "12c63d9a",
   "metadata": {},
   "source": [
    "Se elimina la fila de las fechas para reducir el preprocesamiento, ya que se cuenta con otra columna de \"months_number\"."
   ]
  },
  {
   "cell_type": "code",
   "execution_count": null,
   "id": "be1f9abf",
   "metadata": {},
   "outputs": [],
   "source": [
    "invoice_train = invoice_train.drop('invoice_date', axis=1)"
   ]
  },
  {
   "cell_type": "markdown",
   "id": "5c9401bb",
   "metadata": {},
   "source": [
    "Se puede correr la siguiente celda para evitar correr las últimas 4 celdas de código y ahorrar tiempo."
   ]
  },
  {
   "cell_type": "code",
   "execution_count": null,
   "id": "eb0c6767",
   "metadata": {},
   "outputs": [],
   "source": [
    "invoice_train = pd.read_csv('Dataset/invoice_train_2.csv') #se cambio los \"train_client_#\" por \"#\" y los Elec por 0 y Gaz por 1"
   ]
  },
  {
   "cell_type": "markdown",
   "id": "c505cc01",
   "metadata": {},
   "source": [
    "# Datos de testeo "
   ]
  },
  {
   "cell_type": "code",
   "execution_count": null,
   "id": "39297898",
   "metadata": {},
   "outputs": [],
   "source": [
    "invoice_test"
   ]
  },
  {
   "cell_type": "code",
   "execution_count": null,
   "id": "ecf66ba4",
   "metadata": {},
   "outputs": [],
   "source": [
    "client_test"
   ]
  },
  {
   "cell_type": "markdown",
   "id": "7e18d95a",
   "metadata": {},
   "source": [
    "Se repite este proceso para los datos de testeo. Aquí se cambia los \"test_client_#\" por un simple número #. Del mismo modo se puede evitar correr las siguientes 4 celdas y directamente cargar el archivo \"invoice_test_2\" para ahorrar tiempo."
   ]
  },
  {
   "cell_type": "code",
   "execution_count": null,
   "id": "3c653fa2",
   "metadata": {},
   "outputs": [],
   "source": [
    "old_client_id = \"test_Client_0\"\n",
    "index = 0\n",
    "for i in range(1939730):\n",
    "  client_id = invoice_test.loc[i,\"client_id\"]\n",
    "  if old_client_id != client_id:\n",
    "    index += 1\n",
    "  old_client_id = client_id\n",
    "  invoice_test.loc[i,\"client_id\"] = index"
   ]
  },
  {
   "cell_type": "code",
   "execution_count": null,
   "id": "dab4dfbc",
   "metadata": {},
   "outputs": [],
   "source": [
    "invoice_test = invoice_test.set_axis(invoice_test['client_id'],0)\n",
    "invoice_test = invoice_test.drop('client_id', axis=1)"
   ]
  },
  {
   "cell_type": "markdown",
   "id": "95431ca7",
   "metadata": {},
   "source": [
    "Se reemplaza los \"ELEC\" por 0 y \"GAZ\" por 1, para trabajar con valores numéricos"
   ]
  },
  {
   "cell_type": "code",
   "execution_count": null,
   "id": "3cab458d",
   "metadata": {},
   "outputs": [],
   "source": [
    "invoice_test[\"counter_type\"] = invoice_test[\"counter_type\"].replace([\"ELEC\", \"GAZ\"], [0, 1])"
   ]
  },
  {
   "cell_type": "markdown",
   "id": "34235f73",
   "metadata": {},
   "source": [
    "Se elimina la fila de las fechas para reducir el preprocesamiento, ya que se cuenta con otra columna de \"months_number\"."
   ]
  },
  {
   "cell_type": "code",
   "execution_count": null,
   "id": "f083dcf1",
   "metadata": {},
   "outputs": [],
   "source": [
    "invoice_test = invoice_test.drop('invoice_date', axis=1)"
   ]
  },
  {
   "cell_type": "markdown",
   "id": "58721e26",
   "metadata": {},
   "source": [
    "Se puede correr la siguiente celda para evitar correr las últimas 4 celdas de código y ahorrar tiempo."
   ]
  },
  {
   "cell_type": "code",
   "execution_count": null,
   "id": "96adbd15",
   "metadata": {},
   "outputs": [],
   "source": [
    "invoice_test = pd.read_csv('Dataset/invoice_test_2.csv') #se cambio los \"test_client_#\" por \"#\" y los Elec por 0 y Gaz por 1"
   ]
  },
  {
   "cell_type": "markdown",
   "id": "efb6dd24",
   "metadata": {},
   "source": [
    "# Calculo de la media, desviación estándar, mínimo, máximo y rango para los datos de entrenamiento"
   ]
  },
  {
   "cell_type": "markdown",
   "id": "875ee596",
   "metadata": {},
   "source": [
    "# Datos de entrenamiento"
   ]
  },
  {
   "cell_type": "markdown",
   "id": "ce3e0e1c",
   "metadata": {},
   "source": [
    "Se suman las columnas del consumo debido a que presentan una alta correlación y representan el consumo total"
   ]
  },
  {
   "cell_type": "code",
   "execution_count": null,
   "id": "3896eab6",
   "metadata": {},
   "outputs": [],
   "source": [
    "invoice_train[\"consumo_total\"] = invoice_train[\"consommation_level_1\"] + invoice_train[\"consommation_level_2\"] + invoice_train[\"consommation_level_3\"] + invoice_train[\"consommation_level_4\"]\n",
    "invoice_train = invoice_train.drop([\"consommation_level_1\",\"consommation_level_2\",\"consommation_level_3\",\"consommation_level_4\"], axis=1)"
   ]
  },
  {
   "cell_type": "markdown",
   "id": "f9d808e5",
   "metadata": {},
   "source": [
    "Se añade una nueva columna para guardar la diferencia entre el `old_index` y el `new_index` que corresponde a la diferencia de consumos entre diferentes facturas"
   ]
  },
  {
   "cell_type": "code",
   "execution_count": null,
   "id": "d97abd50",
   "metadata": {},
   "outputs": [],
   "source": [
    "invoice_train[\"diff_index\"] = invoice_train[\"new_index\"] - invoice_train[\"old_index\"]"
   ]
  },
  {
   "cell_type": "markdown",
   "id": "944c3c6f",
   "metadata": {},
   "source": [
    "Se define un nuevo dataset para guardar las columnas de la media, std, min y max"
   ]
  },
  {
   "cell_type": "code",
   "execution_count": null,
   "id": "f9d2c725",
   "metadata": {},
   "outputs": [],
   "source": [
    "col_mean = [col + \"_mean\" for col in invoice_train.columns]\n",
    "col_std = [col + \"_std\" for col in invoice_train.columns]\n",
    "col_min = [col + \"_min\" for col in invoice_train.columns]\n",
    "col_max = [col + \"_max\" for col in invoice_train.columns]\n",
    "data_train = pd.DataFrame(columns = col_mean + col_std + col_min + col_max)"
   ]
  },
  {
   "cell_type": "markdown",
   "id": "a969ec06",
   "metadata": {},
   "source": [
    "Se calcula la media, std, min y max de todas las columnas. Este proceso puede tardar más de 5 horas, por lo que se puede evitar correr las siguientes 3 celdas y cargar directamente el archivo \"data_train.csv\""
   ]
  },
  {
   "cell_type": "code",
   "execution_count": null,
   "id": "a7382b81",
   "metadata": {},
   "outputs": [],
   "source": [
    "functions = ['mean','std','min','max']\n",
    "for index in range(135493):    \n",
    "    if type(invoice_train.loc[index].count()) != np.int64:\n",
    "        stats = invoice_train.loc[index].agg(functions,axis=0)\n",
    "        for function in functions:\n",
    "            cols = tuple(col + \"_\" + function for col in invoice_train.columns)\n",
    "            data_train.loc[index,cols] = stats.loc[function].rename({col: col + \"_\" + function for col in invoice_train.columns})\n",
    "    else:\n",
    "        for function in functions:\n",
    "            cols = tuple(col + \"_\" + function for col in invoice_train.columns)\n",
    "            data_train.loc[index,cols] = dataset.loc[index].rename({col: col + \"_\" + function for col in invoice_train.columns})\n",
    "data_train"
   ]
  },
  {
   "cell_type": "markdown",
   "id": "40c607a8",
   "metadata": {},
   "source": [
    "Teniendo el min y max se calcula la diferencia para determinar el rango de las columnas"
   ]
  },
  {
   "cell_type": "code",
   "execution_count": null,
   "id": "3d128a3a",
   "metadata": {},
   "outputs": [],
   "source": [
    "cols_range = [\"tarif_type\", \n",
    "             \"counter_number\",\n",
    "             \"counter_statue\",\n",
    "             \"counter_code\",\n",
    "             \"reading_remarque\",\n",
    "             \"counter_coefficient\",\n",
    "             \"old_index\",\n",
    "             \"new_index\",\n",
    "             \"months_number\",\n",
    "             \"counter_type\",\n",
    "             \"consumo_total\",\n",
    "             \"diff_index\"]\n",
    "\n",
    "for col in cols_range:\n",
    "    data_train[col + \"_range\"] = pd.to_numeric(data_train[col + \"_max\"], errors='coerce') - pd.to_numeric(data_train[col + \"_min\"], errors='coerce')"
   ]
  },
  {
   "cell_type": "markdown",
   "id": "513b3020",
   "metadata": {},
   "source": [
    "Se unen las columnas de los datos sacados del invoice_train con client_train que contienen datos del cliente como el distrito, la categoría, región y la etiqueta de los datos para entrenamiento"
   ]
  },
  {
   "cell_type": "code",
   "execution_count": null,
   "id": "24d68ccb",
   "metadata": {},
   "outputs": [],
   "source": [
    "data_train = pd.concat([data_train, client_train.loc[:,(\"disrict\", \"client_catg\", \"region\", \"target\")]],axis = 1)"
   ]
  },
  {
   "cell_type": "markdown",
   "id": "8d0493ae",
   "metadata": {},
   "source": [
    "Se puede correr la siguiente celda para evitar correr las últimas 3 celdas de código y ahorrar tiempo."
   ]
  },
  {
   "cell_type": "code",
   "execution_count": null,
   "id": "35c91d05",
   "metadata": {},
   "outputs": [],
   "source": [
    "data_train = pd.read_csv('Dataset/data_train.csv')"
   ]
  },
  {
   "cell_type": "markdown",
   "id": "4ef076e3",
   "metadata": {},
   "source": [
    "# Datos de testeo"
   ]
  },
  {
   "cell_type": "markdown",
   "id": "1c191d54",
   "metadata": {},
   "source": [
    "Se suman las columnas del consumo debido a que presentan una alta correlación y representan el consumo total"
   ]
  },
  {
   "cell_type": "code",
   "execution_count": null,
   "id": "525a5ebf",
   "metadata": {},
   "outputs": [],
   "source": [
    "invoice_test[\"consumo_total\"] = invoice_test[\"consommation_level_1\"] + invoice_test[\"consommation_level_2\"] + invoice_test[\"consommation_level_3\"] + invoice_test[\"consommation_level_4\"]\n",
    "invoice_test = invoice_test.drop([\"consommation_level_1\",\"consommation_level_2\",\"consommation_level_3\",\"consommation_level_4\"], axis=1)"
   ]
  },
  {
   "cell_type": "markdown",
   "id": "e14753ea",
   "metadata": {},
   "source": [
    "Se añade una nueva columna para guardar la diferencia entre el `old_index` y el `new_index` que corresponde a la diferencia de consumos entre diferentes facturas"
   ]
  },
  {
   "cell_type": "code",
   "execution_count": null,
   "id": "94944e09",
   "metadata": {},
   "outputs": [],
   "source": [
    "invoice_test[\"diff_index\"] = invoice_test[\"new_index\"] - invoice_test[\"old_index\"]"
   ]
  },
  {
   "cell_type": "markdown",
   "id": "3fd8128f",
   "metadata": {},
   "source": [
    "Se define un nuevo dataset para guardar las columnas de la media, std, min y max"
   ]
  },
  {
   "cell_type": "code",
   "execution_count": null,
   "id": "86f66e2c",
   "metadata": {},
   "outputs": [],
   "source": [
    "col_mean = [col + \"_mean\" for col in invoice_test.columns]\n",
    "col_std = [col + \"_std\" for col in invoice_test.columns]\n",
    "col_min = [col + \"_min\" for col in invoice_test.columns]\n",
    "col_max = [col + \"_max\" for col in invoice_test.columns]\n",
    "data_test = pd.DataFrame(columns = col_mean + col_std + col_min + col_max)"
   ]
  },
  {
   "cell_type": "markdown",
   "id": "914abf41",
   "metadata": {},
   "source": [
    "Se calcula la media, std, min y max de todas las columnas. Este proceso puede tardar más de 1 hora, por lo que se puede evitar correr las siguientes 3 celdas y cargar directamente el archivo \"data_test.csv\""
   ]
  },
  {
   "cell_type": "code",
   "execution_count": null,
   "id": "4fe3ed65",
   "metadata": {},
   "outputs": [],
   "source": [
    "functions = ['mean','std','min','max']\n",
    "for index in range(135493):    \n",
    "    if type(invoice_test.loc[index].count()) != np.int64:\n",
    "        stats = invoice_test.loc[index].agg(functions,axis=0)\n",
    "        for function in functions:\n",
    "            cols = tuple(col + \"_\" + function for col in invoice_test.columns)\n",
    "            data_test.loc[index,cols] = stats.loc[function].rename({col: col + \"_\" + function for col in invoice_test.columns})\n",
    "    else:\n",
    "        for function in functions:\n",
    "            cols = tuple(col + \"_\" + function for col in invoice_test.columns)\n",
    "            data_test.loc[index,cols] = dataset.loc[index].rename({col: col + \"_\" + function for col in invoice_test.columns})\n",
    "data_test"
   ]
  },
  {
   "cell_type": "markdown",
   "id": "c4cd51bf",
   "metadata": {},
   "source": [
    "Teniendo el min y max se calcula la diferencia para determinar el rango de las columnas"
   ]
  },
  {
   "cell_type": "code",
   "execution_count": null,
   "id": "24576bd8",
   "metadata": {},
   "outputs": [],
   "source": [
    "cols_range = [\"tarif_type\", \n",
    "             \"counter_number\",\n",
    "             \"counter_statue\",\n",
    "             \"counter_code\",\n",
    "             \"reading_remarque\",\n",
    "             \"counter_coefficient\",\n",
    "             \"old_index\",\n",
    "             \"new_index\",\n",
    "             \"months_number\",\n",
    "             \"counter_type\",\n",
    "             \"consumo_total\",\n",
    "             \"diff_index\"]\n",
    "\n",
    "for col in cols_range:\n",
    "    data_test[col + \"_range\"] = pd.to_numeric(data_test[col + \"_max\"], errors='coerce') - pd.to_numeric(data_test[col + \"_min\"], errors='coerce')"
   ]
  },
  {
   "cell_type": "markdown",
   "id": "999a0646",
   "metadata": {},
   "source": [
    "Se unen las columnas de los datos sacados del invoice_train con client_train que contienen datos del cliente como el distrito, la categoría, región y la etiqueta de los datos para entrenamiento"
   ]
  },
  {
   "cell_type": "code",
   "execution_count": null,
   "id": "95587ae5",
   "metadata": {},
   "outputs": [],
   "source": [
    "data_test = pd.concat([data_test, client_test.loc[:,(\"disrict\", \"client_catg\", \"region\")]],axis = 1)"
   ]
  },
  {
   "cell_type": "markdown",
   "id": "d73c16f4",
   "metadata": {},
   "source": [
    "Se puede correr la siguiente celda para evitar correr las últimas 3 celdas de código y ahorrar tiempo."
   ]
  },
  {
   "cell_type": "code",
   "execution_count": null,
   "id": "ccedb035",
   "metadata": {},
   "outputs": [],
   "source": [
    "data_test = pd.read_csv('Dataset/data_test.csv')"
   ]
  }
 ],
 "metadata": {
  "kernelspec": {
   "display_name": "Python 3 (ipykernel)",
   "language": "python",
   "name": "python3"
  },
  "language_info": {
   "codemirror_mode": {
    "name": "ipython",
    "version": 3
   },
   "file_extension": ".py",
   "mimetype": "text/x-python",
   "name": "python",
   "nbconvert_exporter": "python",
   "pygments_lexer": "ipython3",
   "version": "3.9.12"
  }
 },
 "nbformat": 4,
 "nbformat_minor": 5
}
